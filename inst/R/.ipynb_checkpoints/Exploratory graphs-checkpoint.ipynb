{
 "cells": [
  {
   "cell_type": "code",
   "execution_count": 1,
   "metadata": {
    "scrolled": false
   },
   "outputs": [
    {
     "name": "stderr",
     "output_type": "stream",
     "text": [
      "\n",
      "Attaching package: ‘dplyr’\n",
      "\n",
      "The following objects are masked from ‘package:stats’:\n",
      "\n",
      "    filter, lag\n",
      "\n",
      "The following objects are masked from ‘package:base’:\n",
      "\n",
      "    intersect, setdiff, setequal, union\n",
      "\n",
      "\n",
      "Attaching package: ‘gridExtra’\n",
      "\n",
      "The following object is masked from ‘package:dplyr’:\n",
      "\n",
      "    combine\n",
      "\n"
     ]
    }
   ],
   "source": [
    "library(ggplot2)\n",
    "library(dplyr)\n",
    "library(reshape2)\n",
    "library(Matrix)\n",
    "library(gridExtra)\n",
    "\n",
    "# You may need to set these to your own local paths.\n",
    "project_directory <- file.path(Sys.getenv(\"GIT_REPO_LOC\"), \"MicrocreditLRVB/inst/simulated_data\")\n",
    "raw_data_directory <- file.path(Sys.getenv(\"GIT_REPO_LOC\"), \"microcredit_vb/data\")"
   ]
  },
  {
   "cell_type": "code",
   "execution_count": 2,
   "metadata": {
    "scrolled": false
   },
   "outputs": [
    {
     "data": {
      "text/html": [
       "0.0206336103413499"
      ],
      "text/latex": [
       "0.0206336103413499"
      ],
      "text/markdown": [
       "0.0206336103413499"
      ],
      "text/plain": [
       "[1] 0.02063361"
      ]
     },
     "metadata": {},
     "output_type": "display_data"
    }
   ],
   "source": [
    "# Read in the data that was produced by the R script.\n",
    "csv_data <- read.csv(file.path(raw_data_directory, \"microcredit_data_processed.csv\"))\n",
    "\n",
    "# The number of distinct groups.\n",
    "n_g <- max(csv_data$site)\n",
    "\n",
    "# Get the observations and the total number of observations.\n",
    "y <- csv_data$profit\n",
    "y_g <- as.integer(csv_data$site)\n",
    "\n",
    "# The x array will indicate which rows should also get the\n",
    "# treatment effect.  The model accomodates generic x, but for\n",
    "# this application we only need indicators.\n",
    "x <- cbind(rep(1, length(y)), as.numeric(csv_data$treatment))\n",
    "\n",
    "data_df <- data.frame(x=x, y=y, y_g=y_g)\n",
    "\n",
    "data_df_transform <-\n",
    "  data_df %>%\n",
    "  mutate(zero_y=abs(y) < 1e-8)\n",
    "\n",
    "# Note that 1e-8 appears to be a good filter -- we don't have any\n",
    "# nearly zero entries until ~1e-1, above which they're probably actual nonzero values.\n",
    "min(abs(filter(data_df_transform, !zero_y)$y))"
   ]
  },
  {
   "cell_type": "code",
   "execution_count": 3,
   "metadata": {
    "scrolled": false
   },
   "outputs": [
    {
     "ename": "ERROR",
     "evalue": "Error in eval(expr, envir, enclos): wrong result size (2), expected 0 or 1\n",
     "output_type": "error",
     "traceback": [
      "Error in eval(expr, envir, enclos): wrong result size (2), expected 0 or 1\nTraceback:\n",
      "1. filter(data_df_transform, !zero_y) %>% inner_join(y_quantiles, \n .     by = \"y_g\") %>% filter(y < qupper & y > qlower) %>% group_by(y_g) %>% \n .     arrange(y) %>% mutate(q = (1:length(y))/length(y), norm = qnorm(q))",
      "2. withVisible(eval(quote(`_fseq`(`_lhs`)), env, env))",
      "3. eval(quote(`_fseq`(`_lhs`)), env, env)",
      "4. eval(expr, envir, enclos)",
      "5. `_fseq`(`_lhs`)",
      "6. freduce(value, `_function_list`)",
      "7. withVisible(function_list[[k]](value))",
      "8. function_list[[k]](value)",
      "9. mutate(., q = (1:length(y))/length(y), norm = qnorm(q))",
      "10. mutate_(.data, .dots = lazyeval::lazy_dots(...))",
      "11. mutate_.tbl_df(.data, .dots = lazyeval::lazy_dots(...))",
      "12. mutate_impl(.data, dots)"
     ]
    }
   ],
   "source": [
    "#######################\n",
    "# Look at qqplots and raw distributions with outlier trimming.  Even after trimming, they do not look very normal.\n",
    "\n",
    "trim_level <- 0.3\n",
    "y_quantiles <-\n",
    "  filter(data_df_transform, !zero_y) %>%\n",
    "  group_by(y_g) %>%\n",
    "  summarize(qlower=quantile(y, trim_level), qupper=quantile(y, 1 - trim_level))\n",
    "\n",
    "data_df_trim <-\n",
    "  filter(data_df_transform, !zero_y) %>%\n",
    "  inner_join(y_quantiles, by=\"y_g\") %>%\n",
    "  filter(y < qupper & y > qlower) %>%\n",
    "  group_by(y_g) %>%\n",
    "  arrange(y) %>%\n",
    "  mutate(q=(1:length(y)) / length(y), norm=qnorm(q))\n",
    "\n",
    "# Qqplots\n",
    "ggplot(filter(data_df_trim)) +\n",
    "  geom_point(aes(x=norm, y=y)) +\n",
    "  facet_grid(y_g ~ ., scales=\"free\")\n",
    "\n",
    "ggplot(filter(data_df_trim)) +\n",
    "  geom_histogram(aes(x=y, y=..ndensity..), bins=20) +\n",
    "  facet_grid(~ y_g, scales=\"free\") + \n",
    "  geom_vline(aes(xintercept=0))\n",
    "\n",
    "\n"
   ]
  },
  {
   "cell_type": "code",
   "execution_count": null,
   "metadata": {
    "scrolled": false
   },
   "outputs": [],
   "source": [
    "###################\n",
    "# Look at cumulative distributions to check for power law behavior.\n",
    "# If it is a power law, the cumulative distribution will be a straight line\n",
    "# with slope given by the power law coefficient plus one.\n",
    "\n",
    "quantile_list <- list()\n",
    "for (group in 1:max(data_df_transform$y_g)) { for (y_sign in c(-1, 1)) { for (arm in c(0, 1)) {\n",
    "  rows <- with(data_df_transform, (y_g == group) & (!zero_y) & (y * y_sign > 0) & (x.2 == arm))\n",
    "  if (sum(rows) > 0) {\n",
    "    quantile_df <- data.frame(y=sort(y_sign * data_df_transform[rows, ]$y),\n",
    "                              quantile=(sum(rows):1) / sum(rows),\n",
    "                              group=group, y_sign=y_sign, arm=arm)\n",
    "    quantile_list[[length(quantile_list) + 1]] <- quantile_df\n",
    "  }\n",
    "}}}\n",
    "quantile_df <- do.call(rbind, quantile_list)\n",
    "\n",
    "ggplot(quantile_df) +\n",
    "    geom_point(aes(x=y_sign * log10(y), y=log10(quantile), color=factor(arm))) +\n",
    "    facet_grid(group ~ y_sign) +\n",
    "    ggtitle(\"Overlaid arms\")\n",
    "ggplot(quantile_df) +\n",
    "    geom_point(aes(x=log10(y), y=log10(quantile), color=factor(y_sign))) +\n",
    "    facet_grid(group ~ arm) +\n",
    "    ggtitle(\"Overlaid signs\")\n",
    "ggplot(quantile_df) +\n",
    "    geom_point(aes(x=log10(y), y=log10(quantile), color=paste(arm, y_sign))) +\n",
    "    facet_grid(group ~ .) +\n",
    "    ggtitle(\"Everything overlaid\")"
   ]
  },
  {
   "cell_type": "code",
   "execution_count": null,
   "metadata": {
    "scrolled": false
   },
   "outputs": [],
   "source": [
    "##########################################\n",
    "# Execute box-cox transforms and save.\n",
    "\n",
    "# A good reference for the Box-Cox transform:\n",
    "# https://www.ime.usp.br/~abe/lista/pdfm9cJKUmFZp.pdf\n",
    "library(MASS)\n",
    "\n",
    "data_df_transform <-\n",
    "  data_df %>%\n",
    "  mutate(zero_y=abs(y) < 1e-8)\n",
    "\n",
    "# Non-zero values of y_trans will be sent in the loop below.\n",
    "data_df_transform$y_trans <- 0.0\n",
    "data_df_transform$lambda <- NaN\n",
    "\n",
    "for (group in 1:max(y_g)) { for (y_sign in c(-1, 1)) {\n",
    "  rows <- with(data_df_transform, (y_g == group) & (!zero_y) & (y * y_sign > 0))\n",
    "  bc_y <- y_sign * data_df_transform[rows, ]$y\n",
    "  if (length(bc_y) > 0) {\n",
    "    # The MASS boxcox function is pretty primitive.  Better to do it yourself with optim.\n",
    "    bc <- boxcox(bc_y ~ 1, plotit=FALSE, lambda=seq(-1, 1, 0.001))\n",
    "    lambda <- bc$x[which.max(bc$y)]\n",
    "    if (abs(lambda) < 0.001) {\n",
    "      lambda <- 0\n",
    "    }\n",
    "    if (lambda == 0) {\n",
    "      y_trans <- log(bc_y)\n",
    "    } else {\n",
    "      y_trans <- ((bc_y ^ lambda) - 1) / lambda\n",
    "    }\n",
    "    qqnorm(y_trans, main=lambda)\n",
    "    #readline(prompt=\"Press [enter] to continue\")\n",
    "    data_df_transform[rows, \"y_trans\"] <- y_sign * y_trans\n",
    "    data_df_transform[rows, \"lambda\"] <- lambda\n",
    "  }\n",
    "}}\n",
    "\n",
    "\n",
    "ggplot(filter(data_df_transform, !zero_y)) +\n",
    "  geom_histogram(aes(x=y_trans, y=..density..), bins=100) +\n",
    "  facet_grid(y_g ~ .)\n",
    "\n",
    "# Look at the lambdas chosen.  They are similar mostly except for group 2.\n",
    "mutate(data_df_transform, y_pos=y > 0) %>%\n",
    "  filter(!zero_y) %>%\n",
    "  group_by(y_g, y_pos) %>%\n",
    "  summarize(lambda=unique(lambda))"
   ]
  }
 ],
 "metadata": {
  "kernelspec": {
   "display_name": "R",
   "language": "R",
   "name": "ir"
  },
  "language_info": {
   "codemirror_mode": "r",
   "file_extension": ".r",
   "mimetype": "text/x-r-source",
   "name": "R",
   "pygments_lexer": "r",
   "version": "3.2.3"
  }
 },
 "nbformat": 4,
 "nbformat_minor": 2
}
